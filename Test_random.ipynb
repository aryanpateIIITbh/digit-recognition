{
 "cells": [
  {
   "cell_type": "code",
   "execution_count": 1,
   "metadata": {},
   "outputs": [],
   "source": [
    "from tensorflow.keras.models import load_model \n",
    "loaded_model = load_model(\"digit1.h5\") \n",
    "#loss, accuracy = loaded_model.evaluate(test_data, test_targets) "
   ]
  },
  {
   "cell_type": "code",
   "execution_count": 2,
   "metadata": {},
   "outputs": [],
   "source": [
    "import tensorflow as tf\n",
    "from tensorflow.keras.models import load_model\n",
    "import cv2\n",
    "import numpy as np\n",
    "\n",
    "classes=[0,1,2,3,4,5,6,7,8,9]\n",
    "def testing():\n",
    "    img=cv2.imread('image.png',0)\n",
    "    img=cv2.bitwise_not(img)\n",
    "##    cv2.imshow('img',img)\n",
    "    img=cv2.resize(img,(28,28))\n",
    "    img=img.reshape(1,28,28,1)\n",
    "    img=img.astype('float32')\n",
    "    img=img/255.0\n",
    "\n",
    "    pred=loaded_model.predict(img)\n",
    "    print(pred)\n",
    "    return pred"
   ]
  },
  {
   "cell_type": "code",
   "execution_count": null,
   "metadata": {},
   "outputs": [
    {
     "name": "stdout",
     "output_type": "stream",
     "text": [
      "[[2.2778939e-07 1.3848235e-02 1.9133125e-01 4.8209203e-04 2.7442633e-03\n",
      "  6.3600321e-09 6.0213802e-18 7.7584404e-01 3.1813404e-05 1.5718171e-02]]\n",
      "argmax 7 \n",
      " 0.77584404 \n",
      " 7\n",
      "[[0.00166772 0.04932525 0.00923636 0.06295467 0.00214077 0.04195352\n",
      "  0.00425573 0.03296349 0.7497386  0.04576389]]\n",
      "argmax 8 \n",
      " 0.7497386 \n",
      " 8\n",
      "[[1.0158213e-15 4.7441048e-17 1.0000000e+00 1.5277677e-14 4.7727697e-16\n",
      "  3.8271629e-25 5.3706779e-11 6.1965359e-14 7.4803163e-16 1.0676435e-20]]\n",
      "argmax 2 \n",
      " 1.0 \n",
      " 2\n"
     ]
    }
   ],
   "source": [
    "from tensorflow.keras.models import load_model\n",
    "import cv2\n",
    "import numpy as np\n",
    "import os\n",
    "\n",
    "from PIL import ImageTk, Image, ImageDraw\n",
    "import PIL\n",
    "import tkinter as tk\n",
    "from tkinter import *\n",
    "\n",
    "classes=[0,1,2,3,4,5,6,7,8,9]\n",
    "width = 500\n",
    "height = 500\n",
    "center = height//2\n",
    "white = (255, 255, 255)\n",
    "green = (0,128,0)\n",
    "\n",
    "def paint(event):\n",
    "    x1, y1 = (event.x - 10), (event.y - 10)\n",
    "    x2, y2 = (event.x + 10), (event.y + 10)\n",
    "    cv.create_oval(x1, y1, x2, y2, fill=\"green\",width=40)\n",
    "    draw.line([x1, y1, x2, y2],fill=\"green\",width=40)\n",
    "def model():\n",
    "    filename = \"image.png\"\n",
    "    image1.save(filename)\n",
    "    pred=testing()\n",
    "    print('argmax',np.argmax(pred[0]),'\\n',\n",
    "          pred[0][np.argmax(pred[0])],'\\n',classes[np.argmax(pred[0])])\n",
    "    txt.insert(tk.INSERT,\"{}\\nAccuracy: {}%\".format(classes[np.argmax(pred[0])],round(pred[0][np.argmax(pred[0])]*100,3)))\n",
    "    \n",
    "def clear():\n",
    "    cv.delete('all')\n",
    "    draw.rectangle((0, 0, 500, 500), fill=(255, 255, 255, 0))\n",
    "    txt.delete('1.0', END)\n",
    "\n",
    "root = Tk()\n",
    "##root.geometry('1000x500') \n",
    "\n",
    "root.resizable(0,0)\n",
    "cv = Canvas(root, width=width, height=height, bg='white')\n",
    "cv.pack()\n",
    "\n",
    "image1 = PIL.Image.new(\"RGB\", (width, height), white)\n",
    "draw = ImageDraw.Draw(image1)\n",
    "\n",
    "txt=tk.Text(root,bd=3,exportselection=0,bg='WHITE',font='Helvetica',\n",
    "            padx=10,pady=10,height=5,width=20)\n",
    "\n",
    "cv.pack(expand=YES, fill=BOTH)\n",
    "cv.bind(\"<B1-Motion>\", paint)\n",
    "\n",
    "btnModel=Button(text=\"Predict\",command=model)\n",
    "btnClear=Button(text=\"clear\",command=clear)\n",
    "\n",
    "btnModel.pack()\n",
    "btnClear.pack()\n",
    "txt.pack()\n",
    "root.mainloop()\n"
   ]
  },
  {
   "cell_type": "code",
   "execution_count": 13,
   "metadata": {},
   "outputs": [],
   "source": []
  },
  {
   "cell_type": "code",
   "execution_count": null,
   "metadata": {},
   "outputs": [],
   "source": []
  },
  {
   "cell_type": "code",
   "execution_count": null,
   "metadata": {},
   "outputs": [],
   "source": []
  }
 ],
 "metadata": {
  "kernelspec": {
   "display_name": "Python 3",
   "language": "python",
   "name": "python3"
  },
  "language_info": {
   "codemirror_mode": {
    "name": "ipython",
    "version": 3
   },
   "file_extension": ".py",
   "mimetype": "text/x-python",
   "name": "python",
   "nbconvert_exporter": "python",
   "pygments_lexer": "ipython3",
   "version": "3.7.4"
  }
 },
 "nbformat": 4,
 "nbformat_minor": 2
}
